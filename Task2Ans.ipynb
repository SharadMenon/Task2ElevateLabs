{
 "cells": [
  {
   "cell_type": "markdown",
   "id": "fda13a4d",
   "metadata": {},
   "source": [
    "Importing Libraries"
   ]
  },
  {
   "cell_type": "code",
   "execution_count": 1,
   "id": "b600481f",
   "metadata": {},
   "outputs": [],
   "source": [
    "import pandas as pd\n",
    "import numpy as np\n",
    "import matplotlib.pyplot as plt"
   ]
  },
  {
   "cell_type": "markdown",
   "id": "8ee2db8a",
   "metadata": {},
   "source": [
    "Reading the file"
   ]
  },
  {
   "cell_type": "code",
   "execution_count": 2,
   "id": "319c75bb",
   "metadata": {},
   "outputs": [
    {
     "data": {
      "application/vnd.microsoft.datawrangler.viewer.v0+json": {
       "columns": [
        {
         "name": "index",
         "rawType": "int64",
         "type": "integer"
        },
        {
         "name": "region",
         "rawType": "object",
         "type": "string"
        },
        {
         "name": "category",
         "rawType": "object",
         "type": "string"
        },
        {
         "name": "parameter",
         "rawType": "object",
         "type": "string"
        },
        {
         "name": "mode",
         "rawType": "object",
         "type": "string"
        },
        {
         "name": "powertrain",
         "rawType": "object",
         "type": "string"
        },
        {
         "name": "year",
         "rawType": "int64",
         "type": "integer"
        },
        {
         "name": "unit",
         "rawType": "object",
         "type": "string"
        },
        {
         "name": "value",
         "rawType": "float64",
         "type": "float"
        }
       ],
       "ref": "b09e58be-cae9-41bc-867a-3388b02a6e45",
       "rows": [
        [
         "0",
         "Australia",
         "Historical",
         "EV sales",
         "Cars",
         "BEV",
         "2011",
         "Vehicles",
         "49.0"
        ],
        [
         "1",
         "Australia",
         "Historical",
         "EV stock share",
         "Cars",
         "EV",
         "2011",
         "percent",
         "0.0003900000010617"
        ],
        [
         "2",
         "Australia",
         "Historical",
         "EV sales share",
         "Cars",
         "EV",
         "2011",
         "percent",
         "0.0065000001341104"
        ],
        [
         "3",
         "Australia",
         "Historical",
         "EV stock",
         "Cars",
         "BEV",
         "2011",
         "Vehicles",
         "49.0"
        ],
        [
         "4",
         "Australia",
         "Historical",
         "EV stock",
         "Cars",
         "BEV",
         "2012",
         "Vehicles",
         "220.0"
        ],
        [
         "5",
         "Australia",
         "Historical",
         "EV stock",
         "Cars",
         "PHEV",
         "2012",
         "Vehicles",
         "80.0"
        ],
        [
         "6",
         "Australia",
         "Historical",
         "EV sales",
         "Cars",
         "PHEV",
         "2012",
         "Vehicles",
         "80.0"
        ],
        [
         "7",
         "Australia",
         "Historical",
         "EV sales share",
         "Cars",
         "EV",
         "2012",
         "percent",
         "0.0299999993294477"
        ],
        [
         "8",
         "Australia",
         "Historical",
         "EV stock share",
         "Cars",
         "EV",
         "2012",
         "percent",
         "0.0024000001139938"
        ],
        [
         "9",
         "Australia",
         "Historical",
         "EV sales",
         "Cars",
         "BEV",
         "2012",
         "Vehicles",
         "170.0"
        ],
        [
         "10",
         "Australia",
         "Historical",
         "EV sales",
         "Cars",
         "BEV",
         "2013",
         "Vehicles",
         "190.0"
        ],
        [
         "11",
         "Australia",
         "Historical",
         "EV stock share",
         "Cars",
         "EV",
         "2013",
         "percent",
         "0.0046000001020729"
        ],
        [
         "12",
         "Australia",
         "Historical",
         "EV sales share",
         "Cars",
         "EV",
         "2013",
         "percent",
         "0.0340000018477439"
        ],
        [
         "13",
         "Australia",
         "Historical",
         "EV sales",
         "Cars",
         "PHEV",
         "2013",
         "Vehicles",
         "100.0"
        ],
        [
         "14",
         "Australia",
         "Historical",
         "EV stock",
         "Cars",
         "PHEV",
         "2013",
         "Vehicles",
         "180.0"
        ],
        [
         "15",
         "Australia",
         "Historical",
         "EV stock",
         "Cars",
         "BEV",
         "2013",
         "Vehicles",
         "410.0"
        ],
        [
         "16",
         "Australia",
         "Historical",
         "EV stock",
         "Cars",
         "BEV",
         "2014",
         "Vehicles",
         "780.0"
        ],
        [
         "17",
         "Australia",
         "Historical",
         "EV stock",
         "Cars",
         "PHEV",
         "2014",
         "Vehicles",
         "1100.0"
        ],
        [
         "18",
         "Australia",
         "Historical",
         "EV sales",
         "Cars",
         "PHEV",
         "2014",
         "Vehicles",
         "950.0"
        ],
        [
         "19",
         "Australia",
         "Historical",
         "EV sales share",
         "Cars",
         "EV",
         "2014",
         "percent",
         "0.1599999964237213"
        ],
        [
         "20",
         "Australia",
         "Historical",
         "EV stock share",
         "Cars",
         "EV",
         "2014",
         "percent",
         "0.0140000004321336"
        ],
        [
         "21",
         "Australia",
         "Historical",
         "EV sales",
         "Cars",
         "BEV",
         "2014",
         "Vehicles",
         "370.0"
        ],
        [
         "22",
         "Australia",
         "Historical",
         "EV sales",
         "Cars",
         "BEV",
         "2015",
         "Vehicles",
         "760.0"
        ],
        [
         "23",
         "Australia",
         "Historical",
         "EV stock share",
         "Cars",
         "EV",
         "2015",
         "percent",
         "0.0270000007003545"
        ],
        [
         "24",
         "Australia",
         "Historical",
         "EV sales share",
         "Cars",
         "EV",
         "2015",
         "percent",
         "0.2000000029802322"
        ],
        [
         "25",
         "Australia",
         "Historical",
         "EV sales",
         "Cars",
         "PHEV",
         "2015",
         "Vehicles",
         "1000.0"
        ],
        [
         "26",
         "Australia",
         "Historical",
         "EV stock",
         "Cars",
         "PHEV",
         "2015",
         "Vehicles",
         "2100.0"
        ],
        [
         "27",
         "Australia",
         "Historical",
         "EV stock",
         "Cars",
         "BEV",
         "2015",
         "Vehicles",
         "1500.0"
        ],
        [
         "28",
         "Australia",
         "Historical",
         "EV stock",
         "Cars",
         "BEV",
         "2016",
         "Vehicles",
         "2200.0"
        ],
        [
         "29",
         "Australia",
         "Historical",
         "EV stock",
         "Cars",
         "PHEV",
         "2016",
         "Vehicles",
         "2800.0"
        ],
        [
         "30",
         "Australia",
         "Historical",
         "EV sales",
         "Cars",
         "PHEV",
         "2016",
         "Vehicles",
         "700.0"
        ],
        [
         "31",
         "Australia",
         "Historical",
         "EV sales share",
         "Cars",
         "EV",
         "2016",
         "percent",
         "0.1500000059604644"
        ],
        [
         "32",
         "Australia",
         "Historical",
         "EV stock share",
         "Cars",
         "EV",
         "2016",
         "percent",
         "0.0370000004768371"
        ],
        [
         "33",
         "Australia",
         "Historical",
         "EV sales",
         "Cars",
         "BEV",
         "2016",
         "Vehicles",
         "670.0"
        ],
        [
         "34",
         "Australia",
         "Historical",
         "EV sales",
         "Cars",
         "BEV",
         "2017",
         "Vehicles",
         "1200.0"
        ],
        [
         "35",
         "Australia",
         "Historical",
         "EV stock share",
         "Cars",
         "EV",
         "2017",
         "percent",
         "0.0520000010728836"
        ],
        [
         "36",
         "Australia",
         "Historical",
         "EV sales share",
         "Cars",
         "EV",
         "2017",
         "percent",
         "0.2599999904632568"
        ],
        [
         "37",
         "Australia",
         "Historical",
         "EV sales",
         "Cars",
         "PHEV",
         "2017",
         "Vehicles",
         "1100.0"
        ],
        [
         "38",
         "Australia",
         "Historical",
         "EV stock",
         "Cars",
         "PHEV",
         "2017",
         "Vehicles",
         "3900.0"
        ],
        [
         "39",
         "Australia",
         "Historical",
         "EV stock",
         "Cars",
         "BEV",
         "2017",
         "Vehicles",
         "3400.0"
        ],
        [
         "40",
         "Australia",
         "Historical",
         "EV stock",
         "Cars",
         "BEV",
         "2018",
         "Vehicles",
         "5200.0"
        ],
        [
         "41",
         "Australia",
         "Historical",
         "EV stock",
         "Cars",
         "PHEV",
         "2018",
         "Vehicles",
         "5700.0"
        ],
        [
         "42",
         "Australia",
         "Historical",
         "EV sales",
         "Cars",
         "PHEV",
         "2018",
         "Vehicles",
         "1800.0"
        ],
        [
         "43",
         "Australia",
         "Historical",
         "EV sales share",
         "Cars",
         "EV",
         "2018",
         "percent",
         "0.4199999868869781"
        ],
        [
         "44",
         "Australia",
         "Historical",
         "EV stock share",
         "Cars",
         "EV",
         "2018",
         "percent",
         "0.0769999995827674"
        ],
        [
         "45",
         "Australia",
         "Historical",
         "EV sales",
         "Cars",
         "BEV",
         "2018",
         "Vehicles",
         "1800.0"
        ],
        [
         "46",
         "Australia",
         "Historical",
         "EV stock share",
         "Cars",
         "EV",
         "2019",
         "percent",
         "0.1400000005960464"
        ],
        [
         "47",
         "Australia",
         "Historical",
         "EV sales share",
         "Cars",
         "EV",
         "2019",
         "percent",
         "1.2000000476837158"
        ],
        [
         "48",
         "Australia",
         "Historical",
         "EV sales",
         "Cars",
         "PHEV",
         "2019",
         "Vehicles",
         "2900.0"
        ],
        [
         "49",
         "Australia",
         "Historical",
         "EV stock",
         "Cars",
         "PHEV",
         "2019",
         "Vehicles",
         "8600.0"
        ]
       ],
       "shape": {
        "columns": 8,
        "rows": 3798
       }
      },
      "text/html": [
       "<div>\n",
       "<style scoped>\n",
       "    .dataframe tbody tr th:only-of-type {\n",
       "        vertical-align: middle;\n",
       "    }\n",
       "\n",
       "    .dataframe tbody tr th {\n",
       "        vertical-align: top;\n",
       "    }\n",
       "\n",
       "    .dataframe thead th {\n",
       "        text-align: right;\n",
       "    }\n",
       "</style>\n",
       "<table border=\"1\" class=\"dataframe\">\n",
       "  <thead>\n",
       "    <tr style=\"text-align: right;\">\n",
       "      <th></th>\n",
       "      <th>region</th>\n",
       "      <th>category</th>\n",
       "      <th>parameter</th>\n",
       "      <th>mode</th>\n",
       "      <th>powertrain</th>\n",
       "      <th>year</th>\n",
       "      <th>unit</th>\n",
       "      <th>value</th>\n",
       "    </tr>\n",
       "  </thead>\n",
       "  <tbody>\n",
       "    <tr>\n",
       "      <th>0</th>\n",
       "      <td>Australia</td>\n",
       "      <td>Historical</td>\n",
       "      <td>EV sales</td>\n",
       "      <td>Cars</td>\n",
       "      <td>BEV</td>\n",
       "      <td>2011</td>\n",
       "      <td>Vehicles</td>\n",
       "      <td>4.900000e+01</td>\n",
       "    </tr>\n",
       "    <tr>\n",
       "      <th>1</th>\n",
       "      <td>Australia</td>\n",
       "      <td>Historical</td>\n",
       "      <td>EV stock share</td>\n",
       "      <td>Cars</td>\n",
       "      <td>EV</td>\n",
       "      <td>2011</td>\n",
       "      <td>percent</td>\n",
       "      <td>3.900000e-04</td>\n",
       "    </tr>\n",
       "    <tr>\n",
       "      <th>2</th>\n",
       "      <td>Australia</td>\n",
       "      <td>Historical</td>\n",
       "      <td>EV sales share</td>\n",
       "      <td>Cars</td>\n",
       "      <td>EV</td>\n",
       "      <td>2011</td>\n",
       "      <td>percent</td>\n",
       "      <td>6.500000e-03</td>\n",
       "    </tr>\n",
       "    <tr>\n",
       "      <th>3</th>\n",
       "      <td>Australia</td>\n",
       "      <td>Historical</td>\n",
       "      <td>EV stock</td>\n",
       "      <td>Cars</td>\n",
       "      <td>BEV</td>\n",
       "      <td>2011</td>\n",
       "      <td>Vehicles</td>\n",
       "      <td>4.900000e+01</td>\n",
       "    </tr>\n",
       "    <tr>\n",
       "      <th>4</th>\n",
       "      <td>Australia</td>\n",
       "      <td>Historical</td>\n",
       "      <td>EV stock</td>\n",
       "      <td>Cars</td>\n",
       "      <td>BEV</td>\n",
       "      <td>2012</td>\n",
       "      <td>Vehicles</td>\n",
       "      <td>2.200000e+02</td>\n",
       "    </tr>\n",
       "    <tr>\n",
       "      <th>...</th>\n",
       "      <td>...</td>\n",
       "      <td>...</td>\n",
       "      <td>...</td>\n",
       "      <td>...</td>\n",
       "      <td>...</td>\n",
       "      <td>...</td>\n",
       "      <td>...</td>\n",
       "      <td>...</td>\n",
       "    </tr>\n",
       "    <tr>\n",
       "      <th>3793</th>\n",
       "      <td>World</td>\n",
       "      <td>Historical</td>\n",
       "      <td>EV stock</td>\n",
       "      <td>Cars</td>\n",
       "      <td>BEV</td>\n",
       "      <td>2023</td>\n",
       "      <td>Vehicles</td>\n",
       "      <td>2.800000e+07</td>\n",
       "    </tr>\n",
       "    <tr>\n",
       "      <th>3794</th>\n",
       "      <td>World</td>\n",
       "      <td>Historical</td>\n",
       "      <td>EV sales</td>\n",
       "      <td>Cars</td>\n",
       "      <td>BEV</td>\n",
       "      <td>2023</td>\n",
       "      <td>Vehicles</td>\n",
       "      <td>9.500000e+06</td>\n",
       "    </tr>\n",
       "    <tr>\n",
       "      <th>3795</th>\n",
       "      <td>World</td>\n",
       "      <td>Historical</td>\n",
       "      <td>EV sales share</td>\n",
       "      <td>Cars</td>\n",
       "      <td>EV</td>\n",
       "      <td>2023</td>\n",
       "      <td>percent</td>\n",
       "      <td>1.800000e+01</td>\n",
       "    </tr>\n",
       "    <tr>\n",
       "      <th>3796</th>\n",
       "      <td>World</td>\n",
       "      <td>Historical</td>\n",
       "      <td>EV stock share</td>\n",
       "      <td>Cars</td>\n",
       "      <td>EV</td>\n",
       "      <td>2023</td>\n",
       "      <td>percent</td>\n",
       "      <td>3.200000e+00</td>\n",
       "    </tr>\n",
       "    <tr>\n",
       "      <th>3797</th>\n",
       "      <td>World</td>\n",
       "      <td>Historical</td>\n",
       "      <td>Electricity demand</td>\n",
       "      <td>Cars</td>\n",
       "      <td>EV</td>\n",
       "      <td>2023</td>\n",
       "      <td>GWh</td>\n",
       "      <td>9.700000e+04</td>\n",
       "    </tr>\n",
       "  </tbody>\n",
       "</table>\n",
       "<p>3798 rows × 8 columns</p>\n",
       "</div>"
      ],
      "text/plain": [
       "         region    category           parameter  mode powertrain  year  \\\n",
       "0     Australia  Historical            EV sales  Cars        BEV  2011   \n",
       "1     Australia  Historical      EV stock share  Cars         EV  2011   \n",
       "2     Australia  Historical      EV sales share  Cars         EV  2011   \n",
       "3     Australia  Historical            EV stock  Cars        BEV  2011   \n",
       "4     Australia  Historical            EV stock  Cars        BEV  2012   \n",
       "...         ...         ...                 ...   ...        ...   ...   \n",
       "3793      World  Historical            EV stock  Cars        BEV  2023   \n",
       "3794      World  Historical            EV sales  Cars        BEV  2023   \n",
       "3795      World  Historical      EV sales share  Cars         EV  2023   \n",
       "3796      World  Historical      EV stock share  Cars         EV  2023   \n",
       "3797      World  Historical  Electricity demand  Cars         EV  2023   \n",
       "\n",
       "          unit         value  \n",
       "0     Vehicles  4.900000e+01  \n",
       "1      percent  3.900000e-04  \n",
       "2      percent  6.500000e-03  \n",
       "3     Vehicles  4.900000e+01  \n",
       "4     Vehicles  2.200000e+02  \n",
       "...        ...           ...  \n",
       "3793  Vehicles  2.800000e+07  \n",
       "3794  Vehicles  9.500000e+06  \n",
       "3795   percent  1.800000e+01  \n",
       "3796   percent  3.200000e+00  \n",
       "3797       GWh  9.700000e+04  \n",
       "\n",
       "[3798 rows x 8 columns]"
      ]
     },
     "execution_count": 2,
     "metadata": {},
     "output_type": "execute_result"
    }
   ],
   "source": [
    "df = pd.read_csv('EVSalesDataset.csv')\n",
    "df"
   ]
  },
  {
   "cell_type": "markdown",
   "id": "e6bb24de",
   "metadata": {},
   "source": [
    "Generating summary statistics"
   ]
  },
  {
   "cell_type": "code",
   "execution_count": 3,
   "id": "ff4e8e6a",
   "metadata": {},
   "outputs": [
    {
     "data": {
      "application/vnd.microsoft.datawrangler.viewer.v0+json": {
       "columns": [
        {
         "name": "index",
         "rawType": "object",
         "type": "string"
        },
        {
         "name": "year",
         "rawType": "float64",
         "type": "float"
        },
        {
         "name": "value",
         "rawType": "float64",
         "type": "float"
        }
       ],
       "ref": "ffd98255-3c44-47a9-8b1b-d718956584a8",
       "rows": [
        [
         "count",
         "3798.0",
         "3798.0"
        ],
        [
         "mean",
         "2017.3699315429174",
         "100954.23300707675"
        ],
        [
         "std",
         "3.8092262232450946",
         "818440.2484064809"
        ],
        [
         "min",
         "2010.0",
         "1.4999999621e-05"
        ],
        [
         "25%",
         "2014.0",
         "2.299999952316284"
        ],
        [
         "50%",
         "2018.0",
         "190.0"
        ],
        [
         "75%",
         "2021.0",
         "6800.0"
        ],
        [
         "max",
         "2023.0",
         "28000000.0"
        ]
       ],
       "shape": {
        "columns": 2,
        "rows": 8
       }
      },
      "text/html": [
       "<div>\n",
       "<style scoped>\n",
       "    .dataframe tbody tr th:only-of-type {\n",
       "        vertical-align: middle;\n",
       "    }\n",
       "\n",
       "    .dataframe tbody tr th {\n",
       "        vertical-align: top;\n",
       "    }\n",
       "\n",
       "    .dataframe thead th {\n",
       "        text-align: right;\n",
       "    }\n",
       "</style>\n",
       "<table border=\"1\" class=\"dataframe\">\n",
       "  <thead>\n",
       "    <tr style=\"text-align: right;\">\n",
       "      <th></th>\n",
       "      <th>year</th>\n",
       "      <th>value</th>\n",
       "    </tr>\n",
       "  </thead>\n",
       "  <tbody>\n",
       "    <tr>\n",
       "      <th>count</th>\n",
       "      <td>3798.000000</td>\n",
       "      <td>3.798000e+03</td>\n",
       "    </tr>\n",
       "    <tr>\n",
       "      <th>mean</th>\n",
       "      <td>2017.369932</td>\n",
       "      <td>1.009542e+05</td>\n",
       "    </tr>\n",
       "    <tr>\n",
       "      <th>std</th>\n",
       "      <td>3.809226</td>\n",
       "      <td>8.184402e+05</td>\n",
       "    </tr>\n",
       "    <tr>\n",
       "      <th>min</th>\n",
       "      <td>2010.000000</td>\n",
       "      <td>1.500000e-05</td>\n",
       "    </tr>\n",
       "    <tr>\n",
       "      <th>25%</th>\n",
       "      <td>2014.000000</td>\n",
       "      <td>2.300000e+00</td>\n",
       "    </tr>\n",
       "    <tr>\n",
       "      <th>50%</th>\n",
       "      <td>2018.000000</td>\n",
       "      <td>1.900000e+02</td>\n",
       "    </tr>\n",
       "    <tr>\n",
       "      <th>75%</th>\n",
       "      <td>2021.000000</td>\n",
       "      <td>6.800000e+03</td>\n",
       "    </tr>\n",
       "    <tr>\n",
       "      <th>max</th>\n",
       "      <td>2023.000000</td>\n",
       "      <td>2.800000e+07</td>\n",
       "    </tr>\n",
       "  </tbody>\n",
       "</table>\n",
       "</div>"
      ],
      "text/plain": [
       "              year         value\n",
       "count  3798.000000  3.798000e+03\n",
       "mean   2017.369932  1.009542e+05\n",
       "std       3.809226  8.184402e+05\n",
       "min    2010.000000  1.500000e-05\n",
       "25%    2014.000000  2.300000e+00\n",
       "50%    2018.000000  1.900000e+02\n",
       "75%    2021.000000  6.800000e+03\n",
       "max    2023.000000  2.800000e+07"
      ]
     },
     "execution_count": 3,
     "metadata": {},
     "output_type": "execute_result"
    }
   ],
   "source": [
    "df.describe()"
   ]
  },
  {
   "cell_type": "code",
   "execution_count": 4,
   "id": "bf9c1abe",
   "metadata": {},
   "outputs": [
    {
     "name": "stdout",
     "output_type": "stream",
     "text": [
      "<class 'pandas.core.frame.DataFrame'>\n",
      "RangeIndex: 3798 entries, 0 to 3797\n",
      "Data columns (total 8 columns):\n",
      " #   Column      Non-Null Count  Dtype  \n",
      "---  ------      --------------  -----  \n",
      " 0   region      3798 non-null   object \n",
      " 1   category    3798 non-null   object \n",
      " 2   parameter   3798 non-null   object \n",
      " 3   mode        3798 non-null   object \n",
      " 4   powertrain  3798 non-null   object \n",
      " 5   year        3798 non-null   int64  \n",
      " 6   unit        3798 non-null   object \n",
      " 7   value       3798 non-null   float64\n",
      "dtypes: float64(1), int64(1), object(6)\n",
      "memory usage: 237.5+ KB\n"
     ]
    }
   ],
   "source": [
    "df.info()"
   ]
  },
  {
   "cell_type": "code",
   "execution_count": 5,
   "id": "c62c292d",
   "metadata": {},
   "outputs": [
    {
     "data": {
      "application/vnd.microsoft.datawrangler.viewer.v0+json": {
       "columns": [
        {
         "name": "index",
         "rawType": "object",
         "type": "string"
        },
        {
         "name": "0",
         "rawType": "int64",
         "type": "integer"
        }
       ],
       "ref": "0e8f3fa2-9728-49fd-b012-367f169d2e74",
       "rows": [
        [
         "region",
         "0"
        ],
        [
         "category",
         "0"
        ],
        [
         "parameter",
         "0"
        ],
        [
         "mode",
         "0"
        ],
        [
         "powertrain",
         "0"
        ],
        [
         "year",
         "0"
        ],
        [
         "unit",
         "0"
        ],
        [
         "value",
         "0"
        ]
       ],
       "shape": {
        "columns": 1,
        "rows": 8
       }
      },
      "text/plain": [
       "region        0\n",
       "category      0\n",
       "parameter     0\n",
       "mode          0\n",
       "powertrain    0\n",
       "year          0\n",
       "unit          0\n",
       "value         0\n",
       "dtype: int64"
      ]
     },
     "execution_count": 5,
     "metadata": {},
     "output_type": "execute_result"
    }
   ],
   "source": [
    "df.isna().sum()"
   ]
  },
  {
   "cell_type": "markdown",
   "id": "09499555",
   "metadata": {},
   "source": [
    "Plotting Histogram"
   ]
  },
  {
   "cell_type": "code",
   "execution_count": 6,
   "id": "0acacc55",
   "metadata": {},
   "outputs": [
    {
     "data": {
      "image/png": "[encoded data removed]",
      "text/plain": [
       "<Figure size 1500x1200 with 2 Axes>"
      ]
     },
     "metadata": {},
     "output_type": "display_data"
    }
   ],
   "source": [
    "import seaborn as sns\n",
    "num_cols = df.select_dtypes(include=['int64','float64']).columns\n",
    "df[num_cols].hist(figsize=(15,12))\n",
    "plt.show()"
   ]
  },
  {
   "cell_type": "markdown",
   "id": "f6f04f87",
   "metadata": {},
   "source": [
    "Plotting Boxplot"
   ]
  },
  {
   "cell_type": "code",
   "execution_count": 7,
   "id": "22f8ed0b",
   "metadata": {},
   "outputs": [
    {
     "data": {
      "image/png": "[encoded data removed]",
      "text/plain": [
       "<Figure size 1500x1200 with 1 Axes>"
      ]
     },
     "metadata": {},
     "output_type": "display_data"
    },
    {
     "data": {
      "image/png": "[encoded data removed]",
      "text/plain": [
       "<Figure size 1500x1200 with 1 Axes>"
      ]
     },
     "metadata": {},
     "output_type": "display_data"
    }
   ],
   "source": [
    "for col in num_cols:\n",
    "    plt.figure(figsize=(15,12))\n",
    "    sns.boxplot(x=df[col])\n",
    "    plt.title(f\"Boxplot for {col}\")\n",
    "    plt.show()"
   ]
  },
  {
   "cell_type": "markdown",
   "id": "56a931a3",
   "metadata": {},
   "source": [
    "Correlation Matrix"
   ]
  },
  {
   "cell_type": "code",
   "execution_count": 8,
   "id": "49292936",
   "metadata": {},
   "outputs": [
    {
     "data": {
      "image/png": "[encoded data removed]",
      "text/plain": [
       "<Figure size 1000x800 with 2 Axes>"
      ]
     },
     "metadata": {},
     "output_type": "display_data"
    }
   ],
   "source": [
    "plt.figure(figsize=(10, 8))\n",
    "sns.heatmap(df[num_cols].corr(), annot=True, cmap='coolwarm', fmt=\".2f\")\n",
    "plt.title(\"Correlation Matrix\")\n",
    "plt.show()"
   ]
  },
  {
   "cell_type": "markdown",
   "id": "ee8e60ca",
   "metadata": {},
   "source": [
    "PairPlot"
   ]
  },
  {
   "cell_type": "code",
   "execution_count": 9,
   "id": "5c91021e",
   "metadata": {},
   "outputs": [
    {
     "data": {
      "image/png": "[encoded data removed]",
      "text/plain": [
       "<Figure size 500x500 with 6 Axes>"
      ]
     },
     "metadata": {},
     "output_type": "display_data"
    }
   ],
   "source": [
    "sns.pairplot(df[num_cols])\n",
    "plt.show()"
   ]
  }
 ],
 "metadata": {
  "kernelspec": {
   "display_name": "tensorflow",
   "language": "python",
   "name": "python3"
  },
  "language_info": {
   "codemirror_mode": {
    "name": "ipython",
    "version": 3
   },
   "file_extension": ".py",
   "mimetype": "text/x-python",
   "name": "python",
   "nbconvert_exporter": "python",
   "pygments_lexer": "ipython3",
   "version": "3.10.16"
  }
 },
 "nbformat": 4,
 "nbformat_minor": 5
}
